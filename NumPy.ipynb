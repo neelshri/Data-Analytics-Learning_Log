{
 "cells": [
  {
   "cell_type": "markdown",
   "id": "86a6b112",
   "metadata": {},
   "source": [
    "# NumPy\n",
    "* numerical python\n",
    "* NumPy operates on Arrays on Lists\n",
    "* for performance advantages\n",
    "* turning data into series of numbers"
   ]
  },
  {
   "cell_type": "code",
   "execution_count": 1,
   "id": "589c0e3e",
   "metadata": {},
   "outputs": [],
   "source": [
    "import numpy as np"
   ]
  },
  {
   "cell_type": "markdown",
   "id": "c32d3001",
   "metadata": {},
   "source": [
    "## Data Types & Attributes\n",
    "\n",
    "* main data type is ndarray(n-dimmensional array)"
   ]
  },
  {
   "cell_type": "code",
   "execution_count": 2,
   "id": "2b93330c",
   "metadata": {},
   "outputs": [
    {
     "data": {
      "text/plain": [
       "numpy.ndarray"
      ]
     },
     "execution_count": 2,
     "metadata": {},
     "output_type": "execute_result"
    }
   ],
   "source": [
    "a1= np.array([1,2,3,4,5])\n",
    "type(a1)"
   ]
  },
  {
   "cell_type": "code",
   "execution_count": 3,
   "id": "c20626ad",
   "metadata": {},
   "outputs": [],
   "source": [
    "a2= np.array(\n",
    "    [[[1,2,3,4,5],\n",
    "     [2,4,6,8,10]],\n",
    "    [[10,20,30,40,50],\n",
    "     [20,40,60,80,100]]]\n",
    "            )"
   ]
  },
  {
   "cell_type": "code",
   "execution_count": 4,
   "id": "49d8bdf2",
   "metadata": {},
   "outputs": [
    {
     "data": {
      "text/plain": [
       "3"
      ]
     },
     "execution_count": 4,
     "metadata": {},
     "output_type": "execute_result"
    }
   ],
   "source": [
    "a2.ndim"
   ]
  },
  {
   "cell_type": "code",
   "execution_count": 5,
   "id": "6c05e0a4",
   "metadata": {},
   "outputs": [
    {
     "data": {
      "text/plain": [
       "3"
      ]
     },
     "execution_count": 5,
     "metadata": {},
     "output_type": "execute_result"
    }
   ],
   "source": [
    "a3=np.array([\n",
    "    [['hello','my','name'],\n",
    "     ['is','nilesh','what'],\n",
    "     ['is','your','name']],\n",
    "    [['hai','batao','bolo'],\n",
    "     ['kuch','to','tum'],\n",
    "     ['tum','ho','pagal']],\n",
    "    [['mai','to','hu'],\n",
    "     ['pagal','yeh','kahu'],\n",
    "     ['har','pal','bsdk']]\n",
    "]\n",
    ")\n",
    "\n",
    "a3.ndim"
   ]
  },
  {
   "cell_type": "code",
   "execution_count": 6,
   "id": "6ed94c9e",
   "metadata": {},
   "outputs": [
    {
     "data": {
      "text/plain": [
       "(array([1, 2, 3]), dtype('int32'), numpy.ndarray)"
      ]
     },
     "execution_count": 6,
     "metadata": {},
     "output_type": "execute_result"
    }
   ],
   "source": [
    "sample_array=np.array([1,2,3])\n",
    "sample_array,sample_array.dtype, type(sample_array)"
   ]
  },
  {
   "cell_type": "code",
   "execution_count": 7,
   "id": "27885771",
   "metadata": {},
   "outputs": [
    {
     "data": {
      "text/plain": [
       "array([[[1., 1., 1.],\n",
       "        [1., 1., 1.],\n",
       "        [1., 1., 1.]],\n",
       "\n",
       "       [[1., 1., 1.],\n",
       "        [1., 1., 1.],\n",
       "        [1., 1., 1.]]])"
      ]
     },
     "execution_count": 7,
     "metadata": {},
     "output_type": "execute_result"
    }
   ],
   "source": [
    "ones=np.ones((2,3,3),dtype=None)\n",
    "ones"
   ]
  },
  {
   "cell_type": "code",
   "execution_count": 8,
   "id": "10efdf58",
   "metadata": {},
   "outputs": [
    {
     "data": {
      "text/plain": [
       "array([ 1,  3,  5,  7,  9, 11])"
      ]
     },
     "execution_count": 8,
     "metadata": {},
     "output_type": "execute_result"
    }
   ],
   "source": [
    "range_array=np.arange(1,12,2)\n",
    "range_array"
   ]
  },
  {
   "cell_type": "code",
   "execution_count": 9,
   "id": "f09b02fe",
   "metadata": {},
   "outputs": [
    {
     "data": {
      "text/plain": [
       "array([[0.57617852, 0.07229108, 0.06804179],\n",
       "       [0.49776874, 0.91745676, 0.01736252],\n",
       "       [0.61065786, 0.90472639, 0.89000562],\n",
       "       [0.07933744, 0.6207303 , 0.8500647 ],\n",
       "       [0.63158644, 0.03657231, 0.527158  ]])"
      ]
     },
     "execution_count": 9,
     "metadata": {},
     "output_type": "execute_result"
    }
   ],
   "source": [
    "rand1=np.random.random((5,3))\n",
    "rand1"
   ]
  },
  {
   "cell_type": "code",
   "execution_count": 29,
   "id": "ec467a1c",
   "metadata": {},
   "outputs": [
    {
     "data": {
      "text/plain": [
       "array([[[1, 3],\n",
       "        [1, 0],\n",
       "        [5, 3]],\n",
       "\n",
       "       [[3, 0],\n",
       "        [2, 3],\n",
       "        [4, 0]],\n",
       "\n",
       "       [[3, 2],\n",
       "        [4, 4],\n",
       "        [1, 3]]])"
      ]
     },
     "execution_count": 29,
     "metadata": {},
     "output_type": "execute_result"
    }
   ],
   "source": [
    "rand2=np.random.randint(0,6,(3,3,2))\n",
    "rand2\n"
   ]
  },
  {
   "cell_type": "code",
   "execution_count": 44,
   "id": "3bee262f",
   "metadata": {},
   "outputs": [
    {
     "ename": "SyntaxError",
     "evalue": "invalid syntax (Temp/ipykernel_19084/2980808484.py, line 2)",
     "output_type": "error",
     "traceback": [
      "\u001b[1;36m  File \u001b[1;32m\"C:\\Users\\niles\\AppData\\Local\\Temp/ipykernel_19084/2980808484.py\"\u001b[1;36m, line \u001b[1;32m2\u001b[0m\n\u001b[1;33m    rand3\u001b[0m\n\u001b[1;37m    ^\u001b[0m\n\u001b[1;31mSyntaxError\u001b[0m\u001b[1;31m:\u001b[0m invalid syntax\n"
     ]
    }
   ],
   "source": [
    "rand3=np.random.rand((3,3)\n",
    "rand3"
   ]
  },
  {
   "cell_type": "code",
   "execution_count": 40,
   "id": "b0812e88",
   "metadata": {},
   "outputs": [
    {
     "data": {
      "text/plain": [
       "array([[0.82128234, 0.69922673, 0.18649241],\n",
       "       [0.88727266, 0.88343906, 0.0221904 ],\n",
       "       [0.37643959, 0.94663199, 0.32635411]])"
      ]
     },
     "execution_count": 40,
     "metadata": {},
     "output_type": "execute_result"
    }
   ],
   "source": [
    "rand3"
   ]
  },
  {
   "cell_type": "code",
   "execution_count": 49,
   "id": "e056a432",
   "metadata": {},
   "outputs": [
    {
     "data": {
      "text/plain": [
       "array([[0.15416284, 0.7400497 , 0.26331502, 0.53373939, 0.01457496,\n",
       "        0.91874701],\n",
       "       [0.90071485, 0.03342143, 0.95694934, 0.13720932, 0.28382835,\n",
       "        0.60608318],\n",
       "       [0.94422514, 0.85273554, 0.00225923, 0.52122603, 0.55203763,\n",
       "        0.48537741],\n",
       "       [0.76813415, 0.16071675, 0.76456045, 0.0208098 , 0.13521018,\n",
       "        0.11627302],\n",
       "       [0.30989758, 0.67145265, 0.47122978, 0.8161683 , 0.28958678,\n",
       "        0.73312598],\n",
       "       [0.70262236, 0.32756948, 0.33464753, 0.97805808, 0.62458211,\n",
       "        0.95031352]])"
      ]
     },
     "execution_count": 49,
     "metadata": {},
     "output_type": "execute_result"
    }
   ],
   "source": [
    "np.random.seed(12)\n",
    "rand4=np.random.random((6,6))\n",
    "rand4"
   ]
  },
  {
   "cell_type": "code",
   "execution_count": null,
   "id": "ba3f49e9",
   "metadata": {},
   "outputs": [],
   "source": []
  }
 ],
 "metadata": {
  "kernelspec": {
   "display_name": "Python 3 (ipykernel)",
   "language": "python",
   "name": "python3"
  },
  "language_info": {
   "codemirror_mode": {
    "name": "ipython",
    "version": 3
   },
   "file_extension": ".py",
   "mimetype": "text/x-python",
   "name": "python",
   "nbconvert_exporter": "python",
   "pygments_lexer": "ipython3",
   "version": "3.9.7"
  }
 },
 "nbformat": 4,
 "nbformat_minor": 5
}
