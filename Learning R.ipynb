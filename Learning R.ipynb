{
 "cells": [
  {
   "cell_type": "markdown",
   "id": "f9ec0ad2",
   "metadata": {},
   "source": [
    "Key points about R\n",
    "\n",
    "1. R is a programming language for staistical computing and graphics.\n",
    "2. R provides variety of statistical and graphical techniques and is highly extensible.\n",
    "3. Can be integrated with technologies and frameworks such as Hadoop and HDFS. \n",
    "4. Variety of packages are available more than 15k.|"
   ]
  },
  {
   "cell_type": "markdown",
   "id": "dc6ad240",
   "metadata": {},
   "source": [
    "Programming language types:\n",
    "1. Compiled based- complete program gets scanned and then an output is produced\n",
    "2. Interpret based- line by line compilation for ex R and python"
   ]
  },
  {
   "cell_type": "markdown",
   "id": "c826e9a5",
   "metadata": {},
   "source": [
    "#### key notes\n",
    "\n",
    "1. to search/look for help topics type: help.search(\"search topic\")\n",
    "2. to run the script line by line press ctrl+r in editor . to run the entire script edit>run all\n",
    "3. R is case sensitive language."
   ]
  },
  {
   "cell_type": "markdown",
   "id": "3a70dcb4",
   "metadata": {},
   "source": [
    "### A. Operators\n",
    "\n",
    "1. Assignment:\n",
    "\n",
    "   a. example to assign we use the syntax : demo<- \"hello\" then print(demo)\n",
    "   \n",
    "   b. if you are assigning values to diff variables in a single line then you need to write ; after every assignment . In case       of assignment in different lines you dont need to write ;\n",
    "\n",
    "\n",
    "2. Arithmetic: \n",
    "        + - / * %%(remainder)  %/%(quotient) ^(power)"
   ]
  },
  {
   "cell_type": "markdown",
   "id": "16f63a4c",
   "metadata": {},
   "source": [
    "### B. Variables in R\n",
    "\n",
    "name of the variable can not be started with _ or any special character or a number other than a dot\n"
   ]
  },
  {
   "cell_type": "markdown",
   "id": "37ad4198",
   "metadata": {},
   "source": [
    "### C. Assignment of Variables\n",
    "\n",
    "Diff ways of assigning a value\n",
    "\n",
    "var1 <- 10\n",
    "var2 = 10\n",
    "10 -> var3\n",
    "\n",
    "Example:\n",
    "var1 <- \"hello my name is\"\n",
    "var2 = \"Nilesh\"\n",
    "\"what is your name\" -> var3\n",
    "\n",
    "cat(var1,\" \",var2, \"\\n\",var3) - to print all the values together\n"
   ]
  },
  {
   "cell_type": "markdown",
   "id": "fa751358",
   "metadata": {},
   "source": [
    "### D. Data types in R"
   ]
  },
  {
   "cell_type": "markdown",
   "id": "3441c56e",
   "metadata": {},
   "source": [
    "1. Numeric:\n",
    "    Default data type is numeric. Example: 1,2,-1,1.5,-1.5\n",
    "\n",
    "2. Integer:\n",
    "    value<- 36 will be considered numeric . To convert this to integer we need to add L(capital)\n",
    "    value<- 36L\n",
    "\n",
    "3. Complex:\n",
    "    data types with values such as 5+2i\n",
    "\n",
    "4. Logical:\n",
    "    values which can be considered as true and false. However, 0 and 1 can not be used to identify \n",
    "    true or false\n",
    "\n",
    "5. Character:\n",
    "    info within double or single quotes is charater"
   ]
  },
  {
   "cell_type": "markdown",
   "id": "64d6408e",
   "metadata": {},
   "source": [
    "### E. Converting Data types\n",
    "\n",
    "1. Example: \n",
    "   a<-10\n",
    "   a<-as.character(a) print(a) \"10\"\n",
    "   a<-as.complex(a) print(a) 10+0i\n",
    "  \n",
    "  to identify the whether its a variable or a numeric or a complex number we use\n",
    "  class(variable)\n",
    "  to identify the type of the variable we use\n",
    "  typeof(variable)\n",
    "\n",
    "2. b<- as.numeric(\"abc\")\n",
    "    print(b)\n",
    "    output will always be NA\n",
    "    \n",
    "3. int<-as.integer(1.234)\n",
    "   print(int)\n",
    "   1 fractional values are removed\n",
    "\n"
   ]
  }
 ],
 "metadata": {
  "kernelspec": {
   "display_name": "Python 3 (ipykernel)",
   "language": "python",
   "name": "python3"
  },
  "language_info": {
   "codemirror_mode": {
    "name": "ipython",
    "version": 3
   },
   "file_extension": ".py",
   "mimetype": "text/x-python",
   "name": "python",
   "nbconvert_exporter": "python",
   "pygments_lexer": "ipython3",
   "version": "3.9.7"
  }
 },
 "nbformat": 4,
 "nbformat_minor": 5
}
